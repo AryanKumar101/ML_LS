{
  "nbformat": 4,
  "nbformat_minor": 0,
  "metadata": {
    "colab": {
      "provenance": [],
      "gpuType": "T4"
    },
    "kernelspec": {
      "name": "python3",
      "display_name": "Python 3"
    },
    "language_info": {
      "name": "python"
    },
    "accelerator": "GPU"
  },
  "cells": [
    {
      "cell_type": "code",
      "execution_count": 4,
      "metadata": {
        "colab": {
          "base_uri": "https://localhost:8080/"
        },
        "collapsed": true,
        "id": "UUfP6VEXO_tm",
        "outputId": "3b491ece-7e85-498f-e38a-c35add35b749"
      },
      "outputs": [
        {
          "output_type": "stream",
          "name": "stdout",
          "text": [
            "Archive:  homer_bart.zip\n",
            "   creating: Bart/\n",
            "  inflating: Bart/bart58.bmp         \n",
            "  inflating: Bart/bart70.bmp         \n",
            "  inflating: Bart/bart64.bmp         \n",
            "  inflating: Bart/bart162.bmp        \n",
            "  inflating: Bart/bart65.bmp         \n",
            "  inflating: Bart/bart71.bmp         \n",
            "  inflating: Bart/bart59.bmp         \n",
            "  inflating: Bart/bart67.bmp         \n",
            "  inflating: Bart/bart73.bmp         \n",
            "  inflating: Bart/bart98.bmp         \n",
            "  inflating: Bart/bart161.bmp        \n",
            "  inflating: Bart/bart149.bmp        \n",
            "  inflating: Bart/bart148.bmp        \n",
            "  inflating: Bart/bart160.bmp        \n",
            "  inflating: Bart/bart99.bmp         \n",
            "  inflating: Bart/bart72.bmp         \n",
            "  inflating: Bart/bart66.bmp         \n",
            "  inflating: Bart/bart62.bmp         \n",
            "  inflating: Bart/bart76.bmp         \n",
            "  inflating: Bart/bart89.bmp         \n",
            "  inflating: Bart/bart158.bmp        \n",
            "  inflating: Bart/bart164.bmp        \n",
            "  inflating: Bart/bart165.bmp        \n",
            "  inflating: Bart/bart159.bmp        \n",
            "  inflating: Bart/bart77.bmp         \n",
            "  inflating: Bart/bart63.bmp         \n",
            "  inflating: Bart/bart75.bmp         \n",
            "  inflating: Bart/bart61.bmp         \n",
            "  inflating: Bart/bart49.bmp         \n",
            "  inflating: Bart/bart167.bmp        \n",
            "  inflating: Bart/bart166.bmp        \n",
            "  inflating: Bart/bart48.bmp         \n",
            "  inflating: Bart/bart60.bmp         \n",
            "  inflating: Bart/bart74.bmp         \n",
            "  inflating: Bart/bart13.bmp         \n",
            "  inflating: Bart/bart115.bmp        \n",
            "  inflating: Bart/bart101.bmp        \n",
            "  inflating: Bart/bart128.bmp        \n",
            "  inflating: Bart/bart100.bmp        \n",
            "  inflating: Bart/bart114.bmp        \n",
            "  inflating: Bart/bart12.bmp         \n",
            "  inflating: Bart/bart38.bmp         \n",
            "  inflating: Bart/bart10.bmp         \n",
            "  inflating: Bart/bart102.bmp        \n",
            "  inflating: Bart/bart116.bmp        \n",
            "  inflating: Bart/bart117.bmp        \n",
            "  inflating: Bart/bart103.bmp        \n",
            "  inflating: Bart/bart11.bmp         \n",
            "  inflating: Bart/bart39.bmp         \n",
            "  inflating: Bart/bart15.bmp         \n",
            "  inflating: Bart/bart29.bmp         \n",
            "  inflating: Bart/bart9.bmp          \n",
            "  inflating: Bart/bart113.bmp        \n",
            "  inflating: Bart/bart112.bmp        \n",
            "  inflating: Bart/bart106.bmp        \n",
            "  inflating: Bart/bart8.bmp          \n",
            "  inflating: Bart/bart28.bmp         \n",
            "  inflating: Bart/bart14.bmp         \n",
            "  inflating: Bart/bart16.bmp         \n",
            "  inflating: Bart/bart138.bmp        \n",
            "  inflating: Bart/bart110.bmp        \n",
            "  inflating: Bart/bart104.bmp        \n",
            "  inflating: Bart/bart105.bmp        \n",
            "  inflating: Bart/bart111.bmp        \n",
            "  inflating: Bart/bart139.bmp        \n",
            "  inflating: Bart/bart17.bmp         \n",
            "  inflating: Bart/bart32.bmp         \n",
            "  inflating: Bart/bart26.bmp         \n",
            "  inflating: Bart/bart6.bmp          \n",
            "  inflating: Bart/bart134.bmp        \n",
            "  inflating: Bart/bart120.bmp        \n",
            "  inflating: Bart/bart108.bmp        \n",
            "  inflating: Bart/bart109.bmp        \n",
            "  inflating: Bart/bart121.bmp        \n",
            "  inflating: Bart/bart135.bmp        \n",
            "  inflating: Bart/bart7.bmp          \n",
            "  inflating: Bart/bart27.bmp         \n",
            "  inflating: Bart/bart19.bmp         \n",
            "  inflating: Bart/bart25.bmp         \n",
            "  inflating: Bart/bart31.bmp         \n",
            "  inflating: Bart/bart5.bmp          \n",
            "  inflating: Bart/bart123.bmp        \n",
            "  inflating: Bart/bart137.bmp        \n",
            "  inflating: Bart/bart136.bmp        \n",
            "  inflating: Bart/bart122.bmp        \n",
            "  inflating: Bart/bart4.bmp          \n",
            "  inflating: Bart/bart30.bmp         \n",
            "  inflating: Bart/bart24.bmp         \n",
            "  inflating: Bart/bart18.bmp         \n",
            "  inflating: Bart/bart20.bmp         \n",
            "  inflating: Bart/bart34.bmp         \n",
            "  inflating: Bart/bart126.bmp        \n",
            "  inflating: Bart/bart132.bmp        \n",
            "  inflating: Bart/bart133.bmp        \n",
            "  inflating: Bart/bart127.bmp        \n",
            "  inflating: Bart/bart1.bmp          \n",
            "  inflating: Bart/bart35.bmp         \n",
            "  inflating: Bart/bart21.bmp         \n",
            "  inflating: Bart/bart37.bmp         \n",
            "  inflating: Bart/bart23.bmp         \n",
            "  inflating: Bart/bart3.bmp          \n",
            "  inflating: Bart/bart119.bmp        \n",
            "  inflating: Bart/bart131.bmp        \n",
            "  inflating: Bart/bart125.bmp        \n",
            "  inflating: Bart/bart124.bmp        \n",
            "  inflating: Bart/bart130.bmp        \n",
            "  inflating: Bart/bart118.bmp        \n",
            "  inflating: Bart/bart2.bmp          \n",
            "  inflating: Bart/bart22.bmp         \n",
            "  inflating: Bart/bart36.bmp         \n",
            "  inflating: Bart/bart79.bmp         \n",
            "  inflating: Bart/bart51.bmp         \n",
            "  inflating: Bart/bart45.bmp         \n",
            "  inflating: Bart/bart92.bmp         \n",
            "  inflating: Bart/bart86.bmp         \n",
            "  inflating: Bart/bart157.bmp        \n",
            "  inflating: Bart/bart143.bmp        \n",
            "  inflating: Bart/bart142.bmp        \n",
            "  inflating: Bart/bart156.bmp        \n",
            "  inflating: Bart/bart87.bmp         \n",
            "  inflating: Bart/bart93.bmp         \n",
            "  inflating: Bart/bart44.bmp         \n",
            "  inflating: Bart/bart50.bmp         \n",
            "  inflating: Bart/bart46.bmp         \n",
            "  inflating: Bart/bart52.bmp         \n",
            "  inflating: Bart/bart85.bmp         \n",
            "  inflating: Bart/bart91.bmp         \n",
            "  inflating: Bart/bart154.bmp        \n",
            "  inflating: Bart/bart168.bmp        \n",
            "  inflating: Bart/bart169.bmp        \n",
            "  inflating: Bart/bart155.bmp        \n",
            "  inflating: Bart/bart141.bmp        \n",
            "  inflating: Bart/bart90.bmp         \n",
            "  inflating: Bart/bart84.bmp         \n",
            "  inflating: Bart/bart53.bmp         \n",
            "  inflating: Bart/bart47.bmp         \n",
            "  inflating: Bart/bart43.bmp         \n",
            "  inflating: Bart/bart57.bmp         \n",
            "  inflating: Bart/bart80.bmp         \n",
            "  inflating: Bart/bart94.bmp         \n",
            "  inflating: Bart/bart145.bmp        \n",
            "  inflating: Bart/bart151.bmp        \n",
            "  inflating: Bart/bart150.bmp        \n",
            "  inflating: Bart/bart144.bmp        \n",
            "  inflating: Bart/bart95.bmp         \n",
            "  inflating: Bart/bart81.bmp         \n",
            "  inflating: Bart/bart56.bmp         \n",
            "  inflating: Bart/bart42.bmp         \n",
            "  inflating: Bart/bart54.bmp         \n",
            "  inflating: Bart/bart40.bmp         \n",
            "  inflating: Bart/bart68.bmp         \n",
            "  inflating: Bart/bart97.bmp         \n",
            "  inflating: Bart/bart83.bmp         \n",
            "  inflating: Bart/bart146.bmp        \n",
            "  inflating: Bart/bart147.bmp        \n",
            "  inflating: Bart/bart153.bmp        \n",
            "  inflating: Bart/bart82.bmp         \n",
            "  inflating: Bart/bart96.bmp         \n",
            "  inflating: Bart/bart69.bmp         \n",
            "  inflating: Bart/bart55.bmp         \n",
            "   creating: Homer/\n",
            "  inflating: Homer/homer38.bmp       \n",
            "  inflating: Homer/homer10.bmp       \n",
            "  inflating: Homer/homer119.bmp      \n",
            "  inflating: Homer/homer124.bmp      \n",
            "  inflating: Homer/homer13.bmp       \n",
            "  inflating: Homer/homer16.bmp       \n",
            "  inflating: Homer/homer123.bmp      \n",
            "  inflating: Homer/homer122.bmp      \n",
            "  inflating: Homer/homer17.bmp       \n",
            "  inflating: Homer/homer15.bmp       \n",
            "  inflating: Homer/homer29.bmp       \n",
            "  inflating: Homer/homer120.bmp      \n",
            "  inflating: Homer/homer8.bmp        \n",
            "  inflating: Homer/homer9.bmp        \n",
            "  inflating: Homer/homer109.bmp      \n",
            "  inflating: Homer/homer121.bmp      \n",
            "  inflating: Homer/homer28.bmp       \n",
            "  inflating: Homer/homer14.bmp       \n",
            "  inflating: Homer/homer73.bmp       \n",
            "  inflating: Homer/homer98.bmp       \n",
            "  inflating: Homer/homer99.bmp       \n",
            "  inflating: Homer/homer72.bmp       \n",
            "  inflating: Homer/homer66.bmp       \n",
            "  inflating: Homer/homer58.bmp       \n",
            "  inflating: Homer/homer70.bmp       \n",
            "  inflating: Homer/homer65.bmp       \n",
            "  inflating: Homer/homer71.bmp       \n",
            "  inflating: Homer/homer59.bmp       \n",
            "  inflating: Homer/homer75.bmp       \n",
            "  inflating: Homer/homer61.bmp       \n",
            "  inflating: Homer/homer49.bmp       \n",
            "  inflating: Homer/homer48.bmp       \n",
            "  inflating: Homer/homer60.bmp       \n",
            "  inflating: Homer/homer74.bmp       \n",
            "  inflating: Homer/homer62.bmp       \n",
            "  inflating: Homer/homer76.bmp       \n",
            "  inflating: Homer/homer77.bmp       \n",
            "  inflating: Homer/homer63.bmp       \n",
            "  inflating: Homer/homer46.bmp       \n",
            "  inflating: Homer/homer52.bmp       \n",
            "  inflating: Homer/homer85.bmp       \n",
            "  inflating: Homer/homer91.bmp       \n",
            "  inflating: Homer/homer90.bmp       \n",
            "  inflating: Homer/homer84.bmp       \n",
            "  inflating: Homer/homer47.bmp       \n",
            "  inflating: Homer/homer79.bmp       \n",
            "  inflating: Homer/homer51.bmp       \n",
            "  inflating: Homer/homer45.bmp       \n",
            "  inflating: Homer/homer92.bmp       \n",
            "  inflating: Homer/homer86.bmp       \n",
            "  inflating: Homer/homer87.bmp       \n",
            "  inflating: Homer/homer93.bmp       \n",
            "  inflating: Homer/homer44.bmp       \n",
            "  inflating: Homer/homer50.bmp       \n",
            "  inflating: Homer/homer78.bmp       \n",
            "  inflating: Homer/homer54.bmp       \n",
            "  inflating: Homer/homer40.bmp       \n",
            "  inflating: Homer/homer68.bmp       \n",
            "  inflating: Homer/homer97.bmp       \n",
            "  inflating: Homer/homer83.bmp       \n",
            "  inflating: Homer/homer82.bmp       \n",
            "  inflating: Homer/homer96.bmp       \n",
            "  inflating: Homer/homer69.bmp       \n",
            "  inflating: Homer/homer41.bmp       \n",
            "  inflating: Homer/homer55.bmp       \n",
            "  inflating: Homer/homer43.bmp       \n",
            "  inflating: Homer/homer57.bmp       \n",
            "  inflating: Homer/homer80.bmp       \n",
            "  inflating: Homer/homer94.bmp       \n",
            "  inflating: Homer/homer95.bmp       \n",
            "  inflating: Homer/homer81.bmp       \n",
            "  inflating: Homer/homer56.bmp       \n",
            "  inflating: Homer/homer31.bmp       \n",
            "  inflating: Homer/homer104.bmp      \n",
            "  inflating: Homer/homer110.bmp      \n",
            "  inflating: Homer/homer4.bmp        \n",
            "  inflating: Homer/homer5.bmp        \n",
            "  inflating: Homer/homer105.bmp      \n",
            "  inflating: Homer/homer30.bmp       \n",
            "  inflating: Homer/homer24.bmp       \n",
            "  inflating: Homer/homer18.bmp       \n",
            "  inflating: Homer/homer32.bmp       \n",
            "  inflating: Homer/homer26.bmp       \n",
            "  inflating: Homer/homer113.bmp      \n",
            "  inflating: Homer/homer107.bmp      \n",
            "  inflating: Homer/homer7.bmp        \n",
            "  inflating: Homer/homer6.bmp        \n",
            "  inflating: Homer/homer106.bmp      \n",
            "  inflating: Homer/homer112.bmp      \n",
            "  inflating: Homer/homer27.bmp       \n",
            "  inflating: Homer/homer33.bmp       \n",
            "  inflating: Homer/homer37.bmp       \n",
            "  inflating: Homer/homer23.bmp       \n",
            "  inflating: Homer/homer116.bmp      \n",
            "  inflating: Homer/homer102.bmp      \n",
            "  inflating: Homer/homer2.bmp        \n",
            "  inflating: Homer/homer3.bmp        \n",
            "  inflating: Homer/homer103.bmp      \n",
            "  inflating: Homer/homer117.bmp      \n",
            "  inflating: Homer/homer22.bmp       \n",
            "  inflating: Homer/homer36.bmp       \n",
            "  inflating: Homer/homer20.bmp       \n",
            "  inflating: Homer/homer34.bmp       \n",
            "  inflating: Homer/homer101.bmp      \n",
            "  inflating: Homer/homer115.bmp      \n",
            "  inflating: Homer/homer1.bmp        \n",
            "  inflating: Homer/homer100.bmp      \n",
            "  inflating: Homer/homer35.bmp       \n",
            "  inflating: Homer/homer21.bmp       \n",
            "\u001b[0m\u001b[01;34mBart\u001b[0m/  \u001b[01;34mDataset\u001b[0m/  \u001b[01;34mHomer\u001b[0m/  homer_bart.zip  \u001b[01;34mML_LS\u001b[0m/  \u001b[01;34msample_data\u001b[0m/\n"
          ]
        }
      ],
      "source": [
        "!unzip homer_bart.zip\n",
        "%ls"
      ]
    },
    {
      "cell_type": "code",
      "source": [
        "import os\n",
        "import tensorflow as tf\n",
        "from tensorflow import keras\n",
        "from tensorflow.keras import layers\n",
        "from tensorflow.keras.layers import Input, Dense, Flatten\n",
        "from tensorflow.keras.preprocessing.image import ImageDataGenerator\n",
        "import numpy as np\n",
        "import matplotlib.pyplot as plt\n"
      ],
      "metadata": {
        "id": "CLWkYVHCQucg"
      },
      "execution_count": 5,
      "outputs": []
    },
    {
      "cell_type": "code",
      "source": [
        "img_height = 64\n",
        "img_width = 64\n",
        "batch_size = 32"
      ],
      "metadata": {
        "id": "i6cWUA9lWqxv"
      },
      "execution_count": 6,
      "outputs": []
    },
    {
      "cell_type": "code",
      "source": [
        "dataset = tf.keras.preprocessing.image_dataset_from_directory(\n",
        "    './Dataset/',\n",
        "    labels='inferred',\n",
        "    label_mode='binary',\n",
        "    batch_size=batch_size,\n",
        "    image_size=(img_height, img_width)\n",
        ")"
      ],
      "metadata": {
        "id": "hSh0wiyqW6pP",
        "colab": {
          "base_uri": "https://localhost:8080/"
        },
        "outputId": "c2bbdf7e-bb33-45c7-843e-39a8d409aa1c"
      },
      "execution_count": 14,
      "outputs": [
        {
          "output_type": "stream",
          "name": "stdout",
          "text": [
            "Found 269 files belonging to 2 classes.\n"
          ]
        }
      ]
    },
    {
      "cell_type": "code",
      "source": [
        "print(len(dataset))"
      ],
      "metadata": {
        "colab": {
          "base_uri": "https://localhost:8080/"
        },
        "id": "KmNxdGCtwohV",
        "outputId": "ed5e3025-84b1-4710-b2f5-072046574280"
      },
      "execution_count": 15,
      "outputs": [
        {
          "output_type": "stream",
          "name": "stdout",
          "text": [
            "9\n"
          ]
        }
      ]
    },
    {
      "cell_type": "code",
      "source": [
        "# prompt: split the dataset defined above into train and test set in the ratio 9:1\n",
        "\n",
        "train_size = int(0.9 * len(dataset))\n",
        "\n",
        "train_dataset = dataset.take(train_size)\n",
        "test_dataset = dataset.skip(train_size)\n",
        "\n",
        "print(\"Train size:\", len(train_dataset))\n",
        "print(\"Test size:\", len(test_dataset))\n"
      ],
      "metadata": {
        "colab": {
          "base_uri": "https://localhost:8080/"
        },
        "id": "YS1e9qxYwqHd",
        "outputId": "306abfc8-0bee-4639-8ca9-bf0727328b6e"
      },
      "execution_count": 16,
      "outputs": [
        {
          "output_type": "stream",
          "name": "stdout",
          "text": [
            "Train size: 8\n",
            "Test size: 1\n"
          ]
        }
      ]
    },
    {
      "cell_type": "code",
      "source": [
        "preprocess = tf.keras.Sequential(\n",
        "    [tf.keras.layers.Rescaling(scale=1./255)] # rescaling factor\n",
        ")\n",
        "model = tf.keras.Sequential()\n",
        "model.add(Input((64,64,3)))\n",
        "model.add(Flatten())\n",
        "model.add(preprocess)\n",
        "model.add(Dense(512, activation='relu'))\n",
        "model.add(Dense(256, activation='relu'))\n",
        "model.add(Dense(128, activation='relu'))\n",
        "model.add(Dense(1, activation='sigmoid'))"
      ],
      "metadata": {
        "id": "dgZeGyKay7re"
      },
      "execution_count": 17,
      "outputs": []
    },
    {
      "cell_type": "code",
      "source": [
        "model.compile(optimizer='adam',\n",
        "              loss = tf.keras.losses.BinaryCrossentropy(from_logits=False), # use tf.keras.losses._______(from_logits = False)\n",
        "              metrics = ['accuracy'])"
      ],
      "metadata": {
        "id": "y7k6s90F1XfV"
      },
      "execution_count": 18,
      "outputs": []
    },
    {
      "cell_type": "code",
      "source": [
        "model.fit(train_dataset,\n",
        "          epochs = 20,\n",
        "          batch_size = batch_size,\n",
        "          verbose=1,\n",
        "          validation_data = test_dataset)"
      ],
      "metadata": {
        "colab": {
          "base_uri": "https://localhost:8080/"
        },
        "id": "D0XmCvdH12ig",
        "outputId": "68689d20-58ff-473f-beb2-99b2f29ebf26"
      },
      "execution_count": 19,
      "outputs": [
        {
          "output_type": "stream",
          "name": "stdout",
          "text": [
            "Epoch 1/20\n",
            "8/8 [==============================] - 2s 50ms/step - loss: 3.5619 - accuracy: 0.5391 - val_loss: 0.8193 - val_accuracy: 0.5385\n",
            "Epoch 2/20\n",
            "8/8 [==============================] - 1s 50ms/step - loss: 0.7829 - accuracy: 0.5312 - val_loss: 0.5386 - val_accuracy: 0.7692\n",
            "Epoch 3/20\n",
            "8/8 [==============================] - 0s 35ms/step - loss: 0.6088 - accuracy: 0.6680 - val_loss: 1.0801 - val_accuracy: 0.3077\n",
            "Epoch 4/20\n",
            "8/8 [==============================] - 0s 33ms/step - loss: 0.8434 - accuracy: 0.6211 - val_loss: 0.5916 - val_accuracy: 0.6923\n",
            "Epoch 5/20\n",
            "8/8 [==============================] - 0s 33ms/step - loss: 0.6781 - accuracy: 0.6641 - val_loss: 0.6008 - val_accuracy: 0.6923\n",
            "Epoch 6/20\n",
            "8/8 [==============================] - 0s 32ms/step - loss: 0.4963 - accuracy: 0.7461 - val_loss: 0.5935 - val_accuracy: 0.6923\n",
            "Epoch 7/20\n",
            "8/8 [==============================] - 0s 33ms/step - loss: 0.5060 - accuracy: 0.7422 - val_loss: 0.5204 - val_accuracy: 0.7692\n",
            "Epoch 8/20\n",
            "8/8 [==============================] - 0s 32ms/step - loss: 0.5242 - accuracy: 0.7578 - val_loss: 0.2635 - val_accuracy: 0.9231\n",
            "Epoch 9/20\n",
            "8/8 [==============================] - 0s 35ms/step - loss: 0.5855 - accuracy: 0.7578 - val_loss: 0.8593 - val_accuracy: 0.5385\n",
            "Epoch 10/20\n",
            "8/8 [==============================] - 0s 32ms/step - loss: 0.4707 - accuracy: 0.7656 - val_loss: 0.3226 - val_accuracy: 0.8462\n",
            "Epoch 11/20\n",
            "8/8 [==============================] - 0s 31ms/step - loss: 0.3801 - accuracy: 0.8125 - val_loss: 0.4587 - val_accuracy: 0.6923\n",
            "Epoch 12/20\n",
            "8/8 [==============================] - 0s 31ms/step - loss: 0.3184 - accuracy: 0.8711 - val_loss: 0.4422 - val_accuracy: 0.7692\n",
            "Epoch 13/20\n",
            "8/8 [==============================] - 0s 33ms/step - loss: 0.2808 - accuracy: 0.8867 - val_loss: 0.1494 - val_accuracy: 1.0000\n",
            "Epoch 14/20\n",
            "8/8 [==============================] - 0s 34ms/step - loss: 0.3375 - accuracy: 0.8594 - val_loss: 0.4882 - val_accuracy: 0.6923\n",
            "Epoch 15/20\n",
            "8/8 [==============================] - 1s 50ms/step - loss: 0.3413 - accuracy: 0.8633 - val_loss: 0.4925 - val_accuracy: 0.7692\n",
            "Epoch 16/20\n",
            "8/8 [==============================] - 0s 33ms/step - loss: 0.2882 - accuracy: 0.8867 - val_loss: 0.2053 - val_accuracy: 1.0000\n",
            "Epoch 17/20\n",
            "8/8 [==============================] - 1s 96ms/step - loss: 0.2635 - accuracy: 0.8945 - val_loss: 0.1932 - val_accuracy: 1.0000\n",
            "Epoch 18/20\n",
            "8/8 [==============================] - 1s 98ms/step - loss: 0.2569 - accuracy: 0.8906 - val_loss: 0.1618 - val_accuracy: 0.9231\n",
            "Epoch 19/20\n",
            "8/8 [==============================] - 0s 32ms/step - loss: 0.1996 - accuracy: 0.9258 - val_loss: 0.1766 - val_accuracy: 0.9231\n",
            "Epoch 20/20\n",
            "8/8 [==============================] - 0s 34ms/step - loss: 0.1732 - accuracy: 0.9414 - val_loss: 0.2136 - val_accuracy: 0.9231\n"
          ]
        },
        {
          "output_type": "execute_result",
          "data": {
            "text/plain": [
              "<keras.src.callbacks.History at 0x7e37b00e2d40>"
            ]
          },
          "metadata": {},
          "execution_count": 19
        }
      ]
    }
  ]
}